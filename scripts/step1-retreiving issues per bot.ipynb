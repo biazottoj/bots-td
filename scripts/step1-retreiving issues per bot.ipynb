{
 "cells": [
  {
   "cell_type": "markdown",
   "id": "2753b22f",
   "metadata": {},
   "source": [
    "### Step 1 - Importing modules"
   ]
  },
  {
   "cell_type": "code",
   "execution_count": 5,
   "id": "bcc015f2",
   "metadata": {},
   "outputs": [],
   "source": [
    "import pandas as pd\n",
    "import requests\n",
    "import time"
   ]
  },
  {
   "cell_type": "markdown",
   "id": "9622b936",
   "metadata": {},
   "source": [
    "### Step 2 - Filtering and sotoring a new dataset with bot accounts"
   ]
  },
  {
   "cell_type": "code",
   "execution_count": 6,
   "id": "878ec3fe",
   "metadata": {},
   "outputs": [],
   "source": [
    "bots_human_df = pd.read_csv('../data/groundtruthbots.csv')\n",
    "bots_df = bots_human_df.loc[bots_human_df['type'] == 'Bot'].drop('type', axis=1)\n",
    "bots_df.to_csv('../data/bots-dataset.csv')"
   ]
  },
  {
   "cell_type": "markdown",
   "id": "42581f5d",
   "metadata": {},
   "source": [
    "### Step 3 - Retreiving the number of issues"
   ]
  },
  {
   "cell_type": "code",
   "execution_count": 7,
   "id": "7b11111f",
   "metadata": {},
   "outputs": [],
   "source": [
    "bots_df = pd.read_csv('../data/bots-dataset.csv')"
   ]
  },
  {
   "cell_type": "code",
   "execution_count": 8,
   "id": "fe31c010",
   "metadata": {},
   "outputs": [],
   "source": [
    "token = open('../token.txt', 'r').readlines()[0].strip()\n",
    "headers = {\"accept\": \"application/vnd.github.v3+json\",\n",
    "                   \"authorization\": f\"token {token}\"}\n",
    "n_issues = []\n",
    "for bot in bots_df['account']:\n",
    "    url = f'https://api.github.com/search/issues?q=involves:{bot}+is:issue+sort:author-date-asc'\n",
    "    res = requests.get(url, headers=headers).json()\n",
    "    try:\n",
    "        n_issues.append(res['total_count'])\n",
    "    except:\n",
    "        n_issues.append(0)\n",
    "    time.sleep(3)\n",
    "bots_df['n-issues'] = n_issues\n",
    "bots_df.to_csv('../data/bots-dataset.csv', index = False)"
   ]
  }
 ],
 "metadata": {
  "kernelspec": {
   "display_name": "Python 3 (ipykernel)",
   "language": "python",
   "name": "python3"
  },
  "language_info": {
   "codemirror_mode": {
    "name": "ipython",
    "version": 3
   },
   "file_extension": ".py",
   "mimetype": "text/x-python",
   "name": "python",
   "nbconvert_exporter": "python",
   "pygments_lexer": "ipython3",
   "version": "3.9.13"
  }
 },
 "nbformat": 4,
 "nbformat_minor": 5
}
