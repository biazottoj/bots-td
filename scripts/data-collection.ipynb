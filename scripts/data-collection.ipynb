{
 "cells": [
  {
   "cell_type": "markdown",
   "id": "c320907a-4bd9-40b6-b42f-74cef7691351",
   "metadata": {},
   "source": [
    "# Data Collection"
   ]
  },
  {
   "cell_type": "markdown",
   "id": "2c9db20f-d245-4e87-bad3-6fa0bfbedc21",
   "metadata": {
    "tags": []
   },
   "source": [
    "## Set up logging"
   ]
  },
  {
   "cell_type": "code",
   "execution_count": 1,
   "id": "2afaca70-74f2-4fcf-9a83-c01cfa46ad33",
   "metadata": {
    "tags": []
   },
   "outputs": [],
   "source": [
    "import logging\n",
    "from ipylogging import DisplayHandler, HTMLFormatter\n",
    "\n",
    "handler = DisplayHandler()\n",
    "handler.setFormatter(HTMLFormatter())\n",
    "\n",
    "log = logging.getLogger()\n",
    "log.addHandler(handler)\n",
    "log.setLevel(logging.INFO)"
   ]
  },
  {
   "cell_type": "markdown",
   "id": "23ade3e0-8048-4e7f-a0dd-dc651fa4a12e",
   "metadata": {},
   "source": [
    "## Global variables"
   ]
  },
  {
   "cell_type": "code",
   "execution_count": 2,
   "id": "d761f18c-b3b8-4dab-84f7-9f9b56e8431c",
   "metadata": {
    "tags": []
   },
   "outputs": [],
   "source": [
    "from pathlib import Path\n",
    "\n",
    "data_dir = Path('../data')\n",
    "cache_dir_github = data_dir.joinpath('github')\n",
    "bots_dataset_path = data_dir.joinpath('bots-dataset.csv')\n",
    "bots_issues_dir = data_dir.joinpath('bots-issues')\n",
    "\n",
    "github_token = open('../gh-token.txt','r').readlines()[0].strip()"
   ]
  },
  {
   "cell_type": "markdown",
   "id": "c5713359-ff37-41f7-bb5b-061ce9f30868",
   "metadata": {},
   "source": [
    "## Step 1 - Collect bots from [Golzadeh et al.](https://zenodo.org/record/4000388)'s dataset"
   ]
  },
  {
   "cell_type": "markdown",
   "id": "0e35605f-4609-44a4-a509-324ae27d6e32",
   "metadata": {},
   "source": [
    "Download dataset from [Golzadeh et al.](https://zenodo.org/record/4000388)"
   ]
  },
  {
   "cell_type": "code",
   "execution_count": 4,
   "id": "4f17e3ed-7f81-49e1-b7fa-6760e93d4ae0",
   "metadata": {
    "tags": []
   },
   "outputs": [],
   "source": [
    "import urllib\n",
    "import gzip\n",
    "import os\n",
    "\n",
    "url_bot_dataset = \"https://zenodo.org/record/4000388/files/groundtruthbots.csv.gz\"\n",
    "path_bot_dataset = data_dir.joinpath('groundtruthbots.csv')\n",
    "\n",
    "gz_path, _ = urllib.request.urlretrieve(url_bot_dataset)\n",
    "with gzip.open(gz_path, \"rb\") as f_in, open(path_bot_dataset, \"wb\") as f_out:\n",
    "    f_out.write(f_in.read())"
   ]
  },
  {
   "cell_type": "markdown",
   "id": "d0dc2369-880b-4120-8d2f-36ac77dab317",
   "metadata": {},
   "source": [
    "Extract bots"
   ]
  },
  {
   "cell_type": "code",
   "execution_count": 5,
   "id": "00acd30b-d15c-4ad0-82e6-04965add1274",
   "metadata": {},
   "outputs": [],
   "source": [
    "from minirig import load_csv_dataset, save_csv_dataset\n",
    "\n",
    "bot_dataset = load_csv_dataset(path_bot_dataset)\n",
    "bot_dataset = [{'account': row['account']} for row in bot_dataset if row['type'] == 'Bot']\n",
    "save_csv_dataset(bots_dataset_path, data=bot_dataset)"
   ]
  },
  {
   "cell_type": "markdown",
   "id": "95a0c8d7-1d45-424f-a368-11f9cca98495",
   "metadata": {
    "tags": []
   },
   "source": [
    "## Step 2 - Collect the number of issues per bot"
   ]
  },
  {
   "cell_type": "code",
   "execution_count": null,
   "id": "ff3475c3-72d8-4fad-bd90-6aec7b409b62",
   "metadata": {
    "tags": []
   },
   "outputs": [],
   "source": [
    "from minirig import load_csv_dataset, save_csv_dataset\n",
    "from minirig import GHRequests\n",
    "\n",
    "bot_dataset = load_csv_dataset(bots_dataset_path)\n",
    "gh_api = GHRequests(token=github_token,cache_dir=cache_dir_github)\n",
    "\n",
    "for bot in bot_dataset:\n",
    "    try:\n",
    "        bot['issue_count'] = gh_api.get_number_issues_involving_user(bot['account'])\n",
    "    except:\n",
    "        bot['issue_count'] = 'na'\n",
    "\n",
    "bot_dataset.sort(reverse=True, key=lambda x: -1 if x['issue_count'] == 'na' else x['issue_count'])\n",
    "save_csv_dataset(bots_dataset_path, data=bot_dataset)"
   ]
  },
  {
   "cell_type": "markdown",
   "id": "cb21537d-2805-4dca-881b-319aef79fa96",
   "metadata": {},
   "source": [
    "## Step 3 - Download issues for each bot"
   ]
  },
  {
   "cell_type": "code",
   "execution_count": null,
   "id": "bb8834e8-c314-416a-8157-da09afcaaa75",
   "metadata": {
    "tags": []
   },
   "outputs": [],
   "source": [
    "from IPython.display import clear_output\n",
    "from minirig import GHRequests, load_csv_dataset\n",
    "import pandas as pd\n",
    "import json\n",
    "\n",
    "bot_dataset = load_csv_dataset(bots_dataset_path)\n",
    "gh_api = GHRequests(token=github_token,cache_dir=cache_dir_github)\n",
    "\n",
    "for bot in bot_dataset:\n",
    "    bot_issues_dir = bots_issues_dir.joinpath(bot['account'])\n",
    "    cnt = 1\n",
    "    for issue in gh_api.get_issues_involving_user(bot['account']):\n",
    "        bot_issue_path = bot_issues_dir.joinpath(issue['html_url'].replace('https://github.com/',''))\n",
    "        bot_issue_path.mkdir(parents=True, exist_ok=True)\n",
    "        if not bot_issue_path.joinpath('json').exists():\n",
    "            with open(bot_issue_path.joinpath('json'), 'w') as f:\n",
    "                json.dump(issue, f)\n",
    "\n",
    "        clear_output()\n",
    "        logging.info(f\"{bot['account']}: {cnt} of {bot['issue_count']}\")\n",
    "        cnt += 1\n"
   ]
  }
 ],
 "metadata": {
  "kernelspec": {
   "display_name": "Python 3 (ipykernel)",
   "language": "python",
   "name": "python3"
  },
  "language_info": {
   "codemirror_mode": {
    "name": "ipython",
    "version": 3
   },
   "file_extension": ".py",
   "mimetype": "text/x-python",
   "name": "python",
   "nbconvert_exporter": "python",
   "pygments_lexer": "ipython3",
   "version": "3.10.0"
  }
 },
 "nbformat": 4,
 "nbformat_minor": 5
}
